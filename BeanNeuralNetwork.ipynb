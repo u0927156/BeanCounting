{
 "cells": [
  {
   "cell_type": "code",
   "execution_count": 3,
   "metadata": {},
   "outputs": [],
   "source": [
    "import pandas as pd\n",
    "import numpy as np\n",
    "from scipy.io import arff\n",
    "import plotly.express as px\n",
    "import plotly.graph_objects as go\n",
    "import tensorflow as tf\n",
    "import tensorflow_datasets as tfds\n",
    "from sklearn.model_selection import train_test_split\n",
    "from sklearn import preprocessing"
   ]
  },
  {
   "cell_type": "code",
   "execution_count": 4,
   "metadata": {},
   "outputs": [
    {
     "name": "stdout",
     "output_type": "stream",
     "text": [
      "Num GPUs Available:  1\n"
     ]
    }
   ],
   "source": [
    "print(\"Num GPUs Available: \", len(tf.config.list_physical_devices('GPU')))"
   ]
  },
  {
   "cell_type": "code",
   "execution_count": 69,
   "metadata": {},
   "outputs": [],
   "source": [
    "data = arff.loadarff('DryBeanDataset/Dry_Bean_Dataset.arff')\n",
    "df = pd.DataFrame(data[0])\n",
    "\n",
    "df['Class'] = df['Class'].str.decode('utf-8')\n",
    "le = preprocessing.LabelEncoder()\n",
    "le.fit(df['Class'])\n",
    "df['Class'] = le.transform(df['Class'])\n",
    "df.head()\n",
    "\n",
    "X = tf.convert_to_tensor(df.iloc[:, :-1])\n",
    "\n",
    "X = tf.divide(\n",
    "   tf.subtract(\n",
    "      X, \n",
    "      tf.reduce_min(X)\n",
    "   ), \n",
    "   tf.subtract(\n",
    "      tf.reduce_max(X), \n",
    "      tf.reduce_min(X)\n",
    "   )\n",
    ")\n",
    "\n",
    "Y = df.pop('Class')\n",
    "Y = tf.keras.utils.to_categorical(Y)"
   ]
  },
  {
   "cell_type": "code",
   "execution_count": 72,
   "metadata": {},
   "outputs": [
    {
     "data": {
      "text/plain": [
       "(13611, 7)"
      ]
     },
     "execution_count": 72,
     "metadata": {},
     "output_type": "execute_result"
    }
   ],
   "source": [
    "Y.shape"
   ]
  },
  {
   "cell_type": "code",
   "execution_count": 115,
   "metadata": {},
   "outputs": [],
   "source": [
    "class BeanModel(tf.keras.Model):\n",
    "\n",
    "    def __init__(self):\n",
    "        super().__init__()\n",
    "        self.dense1 = tf.keras.layers.Dense(128, activation='relu')\n",
    "        self.dense2 = tf.keras.layers.Dense(128, activation='sigmoid')\n",
    "        self.dense3 = tf.keras.layers.Dense(128, activation='sigmoid')\n",
    "        self.dense4 = tf.keras.layers.Dense(7)\n",
    "        self.softmax1 = tf.keras.layers.Softmax()\n",
    "\n",
    "    def call(self, inputs):\n",
    "        x = self.dense1(inputs)\n",
    "        x = self.dense2(x)\n",
    "        x = self.dense3(x)\n",
    "        x = self.dense4(x)\n",
    "        return self.softmax1(x)\n",
    "        \n"
   ]
  },
  {
   "cell_type": "code",
   "execution_count": 116,
   "metadata": {},
   "outputs": [
    {
     "name": "stdout",
     "output_type": "stream",
     "text": [
      "Epoch 1/20\n",
      "319/319 [==============================] - 3s 3ms/step - loss: 1.5740 - accuracy: 0.3402 - val_loss: 4.2412 - val_accuracy: 0.0000e+00\n",
      "Epoch 2/20\n",
      "319/319 [==============================] - 1s 2ms/step - loss: 1.0274 - accuracy: 0.5662 - val_loss: 3.6412 - val_accuracy: 0.0000e+00\n",
      "Epoch 3/20\n",
      "319/319 [==============================] - 1s 2ms/step - loss: 0.9348 - accuracy: 0.6044 - val_loss: 2.8907 - val_accuracy: 0.0000e+00\n",
      "Epoch 4/20\n",
      "319/319 [==============================] - 1s 2ms/step - loss: 0.9042 - accuracy: 0.6117 - val_loss: 2.7302 - val_accuracy: 0.0000e+00\n",
      "Epoch 5/20\n",
      "319/319 [==============================] - 1s 2ms/step - loss: 0.8829 - accuracy: 0.6116 - val_loss: 2.2198 - val_accuracy: 0.0000e+00\n",
      "Epoch 6/20\n",
      "319/319 [==============================] - 1s 2ms/step - loss: 0.8642 - accuracy: 0.6121 - val_loss: 2.5895 - val_accuracy: 0.0000e+00\n",
      "Epoch 7/20\n",
      "319/319 [==============================] - 1s 2ms/step - loss: 0.8488 - accuracy: 0.6234 - val_loss: 2.2074 - val_accuracy: 0.2753\n",
      "Epoch 8/20\n",
      "319/319 [==============================] - 1s 2ms/step - loss: 0.8406 - accuracy: 0.6242 - val_loss: 3.0473 - val_accuracy: 0.1872\n",
      "Epoch 9/20\n",
      "319/319 [==============================] - 1s 2ms/step - loss: 0.8354 - accuracy: 0.6268 - val_loss: 3.2662 - val_accuracy: 0.2051\n",
      "Epoch 10/20\n",
      "319/319 [==============================] - 1s 2ms/step - loss: 0.8318 - accuracy: 0.6291 - val_loss: 3.8996 - val_accuracy: 0.1381\n",
      "Epoch 11/20\n",
      "319/319 [==============================] - 1s 2ms/step - loss: 0.8293 - accuracy: 0.6314 - val_loss: 3.1457 - val_accuracy: 0.2615\n",
      "Epoch 12/20\n",
      "319/319 [==============================] - 1s 2ms/step - loss: 0.8288 - accuracy: 0.6270 - val_loss: 3.6753 - val_accuracy: 0.2175\n",
      "Epoch 13/20\n",
      "319/319 [==============================] - 1s 2ms/step - loss: 0.8270 - accuracy: 0.6333 - val_loss: 4.2579 - val_accuracy: 0.1822\n",
      "Epoch 14/20\n",
      "319/319 [==============================] - 1s 2ms/step - loss: 0.8280 - accuracy: 0.6239 - val_loss: 4.3940 - val_accuracy: 0.1810\n",
      "Epoch 15/20\n",
      "319/319 [==============================] - 1s 2ms/step - loss: 0.8283 - accuracy: 0.6255 - val_loss: 4.1574 - val_accuracy: 0.2269\n",
      "Epoch 16/20\n",
      "319/319 [==============================] - 1s 2ms/step - loss: 0.8284 - accuracy: 0.6281 - val_loss: 5.2067 - val_accuracy: 0.1076\n",
      "Epoch 17/20\n",
      "319/319 [==============================] - 1s 2ms/step - loss: 0.8242 - accuracy: 0.6289 - val_loss: 5.2487 - val_accuracy: 0.1372\n",
      "Epoch 18/20\n",
      "319/319 [==============================] - 1s 2ms/step - loss: 0.8277 - accuracy: 0.6266 - val_loss: 3.8702 - val_accuracy: 0.2783\n",
      "Epoch 19/20\n",
      "319/319 [==============================] - 1s 2ms/step - loss: 0.8257 - accuracy: 0.6300 - val_loss: 4.9715 - val_accuracy: 0.1851\n",
      "Epoch 20/20\n",
      "319/319 [==============================] - 1s 2ms/step - loss: 0.8249 - accuracy: 0.6296 - val_loss: 5.6160 - val_accuracy: 0.1475\n"
     ]
    },
    {
     "data": {
      "text/plain": [
       "<keras.callbacks.History at 0x1de7a21cf70>"
      ]
     },
     "execution_count": 116,
     "metadata": {},
     "output_type": "execute_result"
    }
   ],
   "source": [
    "model = BeanModel()\n",
    "\n",
    "loss_fn = tf.keras.losses.CategoricalCrossentropy(from_logits=False)\n",
    "model.compile(optimizer='adam',\n",
    "                loss=loss_fn,\n",
    "                metrics=['accuracy'])\n",
    "model.fit(X, Y, epochs=20, validation_split=0.25)\n"
   ]
  },
  {
   "cell_type": "code",
   "execution_count": 82,
   "metadata": {},
   "outputs": [],
   "source": [
    "from sklearn.metrics import classification_report"
   ]
  },
  {
   "cell_type": "code",
   "execution_count": 96,
   "metadata": {},
   "outputs": [
    {
     "data": {
      "text/plain": [
       "array([5, 5, 5, ..., 3, 3, 3], dtype=int64)"
      ]
     },
     "execution_count": 96,
     "metadata": {},
     "output_type": "execute_result"
    }
   ],
   "source": [
    "Y_actual_report = np.argmax(Y, axis=1)\n",
    "Y_actual_report"
   ]
  },
  {
   "cell_type": "code",
   "execution_count": 97,
   "metadata": {},
   "outputs": [
    {
     "data": {
      "text/plain": [
       "array([5, 5, 5, ..., 6, 6, 6], dtype=int64)"
      ]
     },
     "execution_count": 97,
     "metadata": {},
     "output_type": "execute_result"
    }
   ],
   "source": [
    "Y_train_actual = np.argmax(model(X), axis=1)\n",
    "Y_train_actual"
   ]
  },
  {
   "cell_type": "code",
   "execution_count": 98,
   "metadata": {},
   "outputs": [
    {
     "name": "stdout",
     "output_type": "stream",
     "text": [
      "              precision    recall  f1-score   support\n",
      "\n",
      "           0       0.41      0.31      0.35      1322\n",
      "           1       1.00      1.00      1.00       522\n",
      "           2       0.64      0.69      0.66      1630\n",
      "           3       1.00      0.11      0.20      3546\n",
      "           4       0.61      0.59      0.60      1928\n",
      "           5       0.24      0.51      0.33      2027\n",
      "           6       0.53      0.78      0.63      2636\n",
      "\n",
      "    accuracy                           0.49     13611\n",
      "   macro avg       0.63      0.57      0.54     13611\n",
      "weighted avg       0.64      0.49      0.46     13611\n",
      "\n"
     ]
    }
   ],
   "source": [
    "print(classification_report(Y_actual_report, Y_train_actual))"
   ]
  },
  {
   "cell_type": "code",
   "execution_count": 99,
   "metadata": {},
   "outputs": [],
   "source": [
    "from sklearn.decomposition import PCA\n"
   ]
  },
  {
   "cell_type": "code",
   "execution_count": 103,
   "metadata": {},
   "outputs": [],
   "source": [
    "pca = PCA(whiten=True)\n",
    "X_pca = pca.fit_transform(X)\n"
   ]
  },
  {
   "cell_type": "code",
   "execution_count": 118,
   "metadata": {},
   "outputs": [
    {
     "name": "stdout",
     "output_type": "stream",
     "text": [
      "Epoch 1/20\n",
      "319/319 [==============================] - 1s 3ms/step - loss: 0.5993 - accuracy: 0.8276 - val_loss: 4.7022 - val_accuracy: 0.0594\n",
      "Epoch 2/20\n",
      "319/319 [==============================] - 1s 2ms/step - loss: 0.1523 - accuracy: 0.9542 - val_loss: 4.7639 - val_accuracy: 0.1845\n",
      "Epoch 3/20\n",
      "319/319 [==============================] - 1s 2ms/step - loss: 0.1403 - accuracy: 0.9565 - val_loss: 5.1887 - val_accuracy: 0.2010\n",
      "Epoch 4/20\n",
      "319/319 [==============================] - 1s 2ms/step - loss: 0.1329 - accuracy: 0.9576 - val_loss: 5.3259 - val_accuracy: 0.2169\n",
      "Epoch 5/20\n",
      "319/319 [==============================] - 1s 2ms/step - loss: 0.1281 - accuracy: 0.9588 - val_loss: 5.0559 - val_accuracy: 0.2501\n",
      "Epoch 6/20\n",
      "319/319 [==============================] - 1s 2ms/step - loss: 0.1256 - accuracy: 0.9594 - val_loss: 5.6276 - val_accuracy: 0.2413\n",
      "Epoch 7/20\n",
      "319/319 [==============================] - 1s 2ms/step - loss: 0.1232 - accuracy: 0.9602 - val_loss: 5.8653 - val_accuracy: 0.2421\n",
      "Epoch 8/20\n",
      "319/319 [==============================] - 1s 2ms/step - loss: 0.1217 - accuracy: 0.9593 - val_loss: 5.5281 - val_accuracy: 0.2442\n",
      "Epoch 9/20\n",
      "319/319 [==============================] - 1s 2ms/step - loss: 0.1189 - accuracy: 0.9595 - val_loss: 6.1249 - val_accuracy: 0.2277\n",
      "Epoch 10/20\n",
      "319/319 [==============================] - 1s 2ms/step - loss: 0.1173 - accuracy: 0.9616 - val_loss: 6.2380 - val_accuracy: 0.2222\n",
      "Epoch 11/20\n",
      "319/319 [==============================] - 1s 2ms/step - loss: 0.1148 - accuracy: 0.9600 - val_loss: 6.0101 - val_accuracy: 0.2366\n",
      "Epoch 12/20\n",
      "319/319 [==============================] - 1s 2ms/step - loss: 0.1138 - accuracy: 0.9620 - val_loss: 6.2088 - val_accuracy: 0.2295\n",
      "Epoch 13/20\n",
      "319/319 [==============================] - 1s 2ms/step - loss: 0.1111 - accuracy: 0.9632 - val_loss: 6.0369 - val_accuracy: 0.2324\n",
      "Epoch 14/20\n",
      "319/319 [==============================] - 1s 2ms/step - loss: 0.1113 - accuracy: 0.9626 - val_loss: 6.5650 - val_accuracy: 0.2069\n",
      "Epoch 15/20\n",
      "319/319 [==============================] - 1s 2ms/step - loss: 0.1097 - accuracy: 0.9635 - val_loss: 6.8031 - val_accuracy: 0.2227\n",
      "Epoch 16/20\n",
      "319/319 [==============================] - 1s 2ms/step - loss: 0.1067 - accuracy: 0.9637 - val_loss: 6.9753 - val_accuracy: 0.2116\n",
      "Epoch 17/20\n",
      "319/319 [==============================] - 1s 2ms/step - loss: 0.1075 - accuracy: 0.9639 - val_loss: 6.6223 - val_accuracy: 0.2333\n",
      "Epoch 18/20\n",
      "319/319 [==============================] - 1s 2ms/step - loss: 0.1061 - accuracy: 0.9638 - val_loss: 7.5392 - val_accuracy: 0.2007\n",
      "Epoch 19/20\n",
      "319/319 [==============================] - 1s 2ms/step - loss: 0.1060 - accuracy: 0.9645 - val_loss: 7.4573 - val_accuracy: 0.2010\n",
      "Epoch 20/20\n",
      "319/319 [==============================] - 1s 2ms/step - loss: 0.1057 - accuracy: 0.9640 - val_loss: 7.8001 - val_accuracy: 0.1922\n"
     ]
    },
    {
     "data": {
      "text/plain": [
       "<keras.callbacks.History at 0x1ded2390c10>"
      ]
     },
     "execution_count": 118,
     "metadata": {},
     "output_type": "execute_result"
    }
   ],
   "source": [
    "model_with_pca = BeanModel()\n",
    "\n",
    "loss_fn = tf.keras.losses.CategoricalCrossentropy(from_logits=False)\n",
    "model_with_pca.compile(optimizer='adam',\n",
    "                loss=loss_fn,\n",
    "                metrics=['accuracy'])\n",
    "model_with_pca.fit(X_pca, Y, epochs=20, validation_split=0.25)"
   ]
  },
  {
   "cell_type": "code",
   "execution_count": null,
   "metadata": {},
   "outputs": [],
   "source": []
  }
 ],
 "metadata": {
  "interpreter": {
   "hash": "cbde5eb2f27232b40f62c8a555816ffd14626dc0d57de71b257eae26eed701e5"
  },
  "kernelspec": {
   "display_name": "Python 3.10.3 64-bit",
   "language": "python",
   "name": "python3"
  },
  "language_info": {
   "codemirror_mode": {
    "name": "ipython",
    "version": 3
   },
   "file_extension": ".py",
   "mimetype": "text/x-python",
   "name": "python",
   "nbconvert_exporter": "python",
   "pygments_lexer": "ipython3",
   "version": "3.10.3"
  },
  "orig_nbformat": 4
 },
 "nbformat": 4,
 "nbformat_minor": 2
}
