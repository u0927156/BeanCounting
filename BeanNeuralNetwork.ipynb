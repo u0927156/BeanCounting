{
 "cells": [
  {
   "cell_type": "code",
   "execution_count": 3,
   "metadata": {},
   "outputs": [],
   "source": [
    "import pandas as pd\n",
    "import numpy as np\n",
    "from scipy.io import arff\n",
    "import plotly.express as px\n",
    "import plotly.graph_objects as go\n",
    "import tensorflow as tf\n",
    "import tensorflow_datasets as tfds\n",
    "from sklearn.model_selection import train_test_split\n",
    "from sklearn import preprocessing"
   ]
  },
  {
   "cell_type": "code",
   "execution_count": 4,
   "metadata": {},
   "outputs": [
    {
     "name": "stdout",
     "output_type": "stream",
     "text": [
      "Num GPUs Available:  1\n"
     ]
    }
   ],
   "source": [
    "print(\"Num GPUs Available: \", len(tf.config.list_physical_devices('GPU')))"
   ]
  },
  {
   "cell_type": "code",
   "execution_count": 69,
   "metadata": {},
   "outputs": [],
   "source": [
    "data = arff.loadarff('DryBeanDataset/Dry_Bean_Dataset.arff')\n",
    "df = pd.DataFrame(data[0])\n",
    "\n",
    "df['Class'] = df['Class'].str.decode('utf-8')\n",
    "le = preprocessing.LabelEncoder()\n",
    "le.fit(df['Class'])\n",
    "df['Class'] = le.transform(df['Class'])\n",
    "df.head()\n",
    "\n",
    "X = tf.convert_to_tensor(df.iloc[:, :-1])\n",
    "\n",
    "X = tf.divide(\n",
    "   tf.subtract(\n",
    "      X, \n",
    "      tf.reduce_min(X)\n",
    "   ), \n",
    "   tf.subtract(\n",
    "      tf.reduce_max(X), \n",
    "      tf.reduce_min(X)\n",
    "   )\n",
    ")\n",
    "\n",
    "Y = df.pop('Class')\n",
    "Y = tf.keras.utils.to_categorical(Y)"
   ]
  },
  {
   "cell_type": "code",
   "execution_count": 72,
   "metadata": {},
   "outputs": [
    {
     "data": {
      "text/plain": [
       "(13611, 7)"
      ]
     },
     "execution_count": 72,
     "metadata": {},
     "output_type": "execute_result"
    }
   ],
   "source": [
    "Y.shape"
   ]
  },
  {
   "cell_type": "code",
   "execution_count": 81,
   "metadata": {},
   "outputs": [
    {
     "name": "stdout",
     "output_type": "stream",
     "text": [
      "Epoch 1/20\n",
      "319/319 [==============================] - 1s 3ms/step - loss: 1.5605 - accuracy: 0.3293 - categorical_accuracy: 0.3293 - val_loss: 3.6567 - val_accuracy: 0.0000e+00 - val_categorical_accuracy: 0.0000e+00\n",
      "Epoch 2/20\n",
      "319/319 [==============================] - 1s 2ms/step - loss: 1.0008 - accuracy: 0.5730 - categorical_accuracy: 0.5730 - val_loss: 3.0751 - val_accuracy: 0.0000e+00 - val_categorical_accuracy: 0.0000e+00\n",
      "Epoch 3/20\n",
      "319/319 [==============================] - 1s 2ms/step - loss: 0.9157 - accuracy: 0.6067 - categorical_accuracy: 0.6067 - val_loss: 2.9575 - val_accuracy: 0.0000e+00 - val_categorical_accuracy: 0.0000e+00\n",
      "Epoch 4/20\n",
      "319/319 [==============================] - 1s 2ms/step - loss: 0.8903 - accuracy: 0.6118 - categorical_accuracy: 0.6118 - val_loss: 2.1725 - val_accuracy: 0.0000e+00 - val_categorical_accuracy: 0.0000e+00\n",
      "Epoch 5/20\n",
      "319/319 [==============================] - 1s 2ms/step - loss: 0.8675 - accuracy: 0.6156 - categorical_accuracy: 0.6156 - val_loss: 2.2138 - val_accuracy: 0.0000e+00 - val_categorical_accuracy: 0.0000e+00\n",
      "Epoch 6/20\n",
      "319/319 [==============================] - 1s 2ms/step - loss: 0.8517 - accuracy: 0.6173 - categorical_accuracy: 0.6173 - val_loss: 3.0952 - val_accuracy: 0.1114 - val_categorical_accuracy: 0.1114\n",
      "Epoch 7/20\n",
      "319/319 [==============================] - 1s 2ms/step - loss: 0.8429 - accuracy: 0.6265 - categorical_accuracy: 0.6265 - val_loss: 2.9463 - val_accuracy: 0.2210 - val_categorical_accuracy: 0.2210\n",
      "Epoch 8/20\n",
      "319/319 [==============================] - 1s 2ms/step - loss: 0.8384 - accuracy: 0.6262 - categorical_accuracy: 0.6262 - val_loss: 3.3223 - val_accuracy: 0.2075 - val_categorical_accuracy: 0.2075\n",
      "Epoch 9/20\n",
      "319/319 [==============================] - 1s 2ms/step - loss: 0.8333 - accuracy: 0.6270 - categorical_accuracy: 0.6270 - val_loss: 3.9959 - val_accuracy: 0.1884 - val_categorical_accuracy: 0.1884\n",
      "Epoch 10/20\n",
      "319/319 [==============================] - 1s 2ms/step - loss: 0.8336 - accuracy: 0.6271 - categorical_accuracy: 0.6271 - val_loss: 3.7075 - val_accuracy: 0.2333 - val_categorical_accuracy: 0.2333\n",
      "Epoch 11/20\n",
      "319/319 [==============================] - 1s 2ms/step - loss: 0.8314 - accuracy: 0.6244 - categorical_accuracy: 0.6244 - val_loss: 4.6501 - val_accuracy: 0.1499 - val_categorical_accuracy: 0.1499\n",
      "Epoch 12/20\n",
      "319/319 [==============================] - 1s 2ms/step - loss: 0.8323 - accuracy: 0.6262 - categorical_accuracy: 0.6262 - val_loss: 4.5590 - val_accuracy: 0.1837 - val_categorical_accuracy: 0.1837\n",
      "Epoch 13/20\n",
      "319/319 [==============================] - 1s 2ms/step - loss: 0.8296 - accuracy: 0.6271 - categorical_accuracy: 0.6271 - val_loss: 4.2361 - val_accuracy: 0.2272 - val_categorical_accuracy: 0.2272\n",
      "Epoch 14/20\n",
      "319/319 [==============================] - 1s 2ms/step - loss: 0.8306 - accuracy: 0.6275 - categorical_accuracy: 0.6275 - val_loss: 5.6322 - val_accuracy: 0.1055 - val_categorical_accuracy: 0.1055\n",
      "Epoch 15/20\n",
      "319/319 [==============================] - 1s 2ms/step - loss: 0.8310 - accuracy: 0.6270 - categorical_accuracy: 0.6270 - val_loss: 4.4389 - val_accuracy: 0.2589 - val_categorical_accuracy: 0.2589\n",
      "Epoch 16/20\n",
      "319/319 [==============================] - 1s 2ms/step - loss: 0.8302 - accuracy: 0.6283 - categorical_accuracy: 0.6283 - val_loss: 4.7684 - val_accuracy: 0.2327 - val_categorical_accuracy: 0.2327\n",
      "Epoch 17/20\n",
      "319/319 [==============================] - 1s 2ms/step - loss: 0.8312 - accuracy: 0.6291 - categorical_accuracy: 0.6291 - val_loss: 5.3097 - val_accuracy: 0.1881 - val_categorical_accuracy: 0.1881\n",
      "Epoch 18/20\n",
      "319/319 [==============================] - 1s 2ms/step - loss: 0.8295 - accuracy: 0.6263 - categorical_accuracy: 0.6263 - val_loss: 4.5269 - val_accuracy: 0.2868 - val_categorical_accuracy: 0.2868\n",
      "Epoch 19/20\n",
      "319/319 [==============================] - 1s 2ms/step - loss: 0.8255 - accuracy: 0.6284 - categorical_accuracy: 0.6284 - val_loss: 5.9763 - val_accuracy: 0.1763 - val_categorical_accuracy: 0.1763\n",
      "Epoch 20/20\n",
      "319/319 [==============================] - 1s 2ms/step - loss: 0.8264 - accuracy: 0.6297 - categorical_accuracy: 0.6297 - val_loss: 7.3679 - val_accuracy: 0.0752 - val_categorical_accuracy: 0.0752\n"
     ]
    },
    {
     "data": {
      "text/plain": [
       "<keras.callbacks.History at 0x1dece582830>"
      ]
     },
     "execution_count": 81,
     "metadata": {},
     "output_type": "execute_result"
    }
   ],
   "source": [
    "model = tf.keras.models.Sequential([\n",
    "    tf.keras.Input(shape=(16,)),\n",
    "    tf.keras.layers.Dense(128, activation='relu'),\n",
    "    tf.keras.layers.Dense(128, activation='sigmoid'),\n",
    "    tf.keras.layers.Dense(128, activation='sigmoid'),\n",
    "    tf.keras.layers.Dense(128, activation='sigmoid'),\n",
    "    tf.keras.layers.Dense(7),\n",
    "    tf.keras.layers.Softmax(),\n",
    "])\n",
    "\n",
    "loss_fn = tf.keras.losses.CategoricalCrossentropy(from_logits=False)\n",
    "model.compile(optimizer='adam',\n",
    "                loss=loss_fn,\n",
    "                metrics=['accuracy', tf.keras.metrics.CategoricalAccuracy()])\n",
    "model.fit(X, Y, epochs=20, validation_split=0.25)\n"
   ]
  },
  {
   "cell_type": "code",
   "execution_count": 74,
   "metadata": {},
   "outputs": [
    {
     "data": {
      "text/plain": [
       "<tf.Tensor: shape=(1, 7), dtype=float32, numpy=\n",
       "array([[7.4282092e-05, 9.2925373e-10, 8.1542976e-06, 6.4450622e-01,\n",
       "        7.3185684e-03, 3.3198979e-01, 1.6102953e-02]], dtype=float32)>"
      ]
     },
     "execution_count": 74,
     "metadata": {},
     "output_type": "execute_result"
    }
   ],
   "source": [
    "model(X[:1])"
   ]
  },
  {
   "cell_type": "code",
   "execution_count": 75,
   "metadata": {},
   "outputs": [
    {
     "data": {
      "text/plain": [
       "array([[0., 0., 0., 0., 0., 1., 0.]], dtype=float32)"
      ]
     },
     "execution_count": 75,
     "metadata": {},
     "output_type": "execute_result"
    }
   ],
   "source": [
    "Y[:1]"
   ]
  },
  {
   "cell_type": "code",
   "execution_count": 82,
   "metadata": {},
   "outputs": [],
   "source": [
    "from sklearn.metrics import classification_report"
   ]
  },
  {
   "cell_type": "code",
   "execution_count": 96,
   "metadata": {},
   "outputs": [
    {
     "data": {
      "text/plain": [
       "array([5, 5, 5, ..., 3, 3, 3], dtype=int64)"
      ]
     },
     "execution_count": 96,
     "metadata": {},
     "output_type": "execute_result"
    }
   ],
   "source": [
    "Y_actual_report = np.argmax(Y, axis=1)\n",
    "Y_actual_report"
   ]
  },
  {
   "cell_type": "code",
   "execution_count": 97,
   "metadata": {},
   "outputs": [
    {
     "data": {
      "text/plain": [
       "array([5, 5, 5, ..., 6, 6, 6], dtype=int64)"
      ]
     },
     "execution_count": 97,
     "metadata": {},
     "output_type": "execute_result"
    }
   ],
   "source": [
    "Y_train_actual = np.argmax(model(X), axis=1)\n",
    "Y_train_actual"
   ]
  },
  {
   "cell_type": "code",
   "execution_count": 98,
   "metadata": {},
   "outputs": [
    {
     "name": "stdout",
     "output_type": "stream",
     "text": [
      "              precision    recall  f1-score   support\n",
      "\n",
      "           0       0.41      0.31      0.35      1322\n",
      "           1       1.00      1.00      1.00       522\n",
      "           2       0.64      0.69      0.66      1630\n",
      "           3       1.00      0.11      0.20      3546\n",
      "           4       0.61      0.59      0.60      1928\n",
      "           5       0.24      0.51      0.33      2027\n",
      "           6       0.53      0.78      0.63      2636\n",
      "\n",
      "    accuracy                           0.49     13611\n",
      "   macro avg       0.63      0.57      0.54     13611\n",
      "weighted avg       0.64      0.49      0.46     13611\n",
      "\n"
     ]
    }
   ],
   "source": [
    "print(classification_report(Y_actual_report, Y_train_actual))"
   ]
  },
  {
   "cell_type": "code",
   "execution_count": 99,
   "metadata": {},
   "outputs": [],
   "source": [
    "from sklearn.decomposition import PCA\n"
   ]
  },
  {
   "cell_type": "code",
   "execution_count": 103,
   "metadata": {},
   "outputs": [],
   "source": [
    "pca = PCA(whiten=True)\n",
    "X_pca = pca.fit_transform(X)\n"
   ]
  },
  {
   "cell_type": "code",
   "execution_count": 104,
   "metadata": {},
   "outputs": [
    {
     "data": {
      "text/plain": [
       "array([[-0.8410975 , -0.09551296,  1.43647106, ..., -0.73509804,\n",
       "        -1.17608335,  3.92515214],\n",
       "       [-0.82761116,  0.2533534 ,  1.26276692, ...,  2.99772966,\n",
       "        -1.442491  ,  5.66770696],\n",
       "       [-0.80793456, -0.16863269,  1.28636774, ..., -1.06671131,\n",
       "        -1.05034499,  3.29322129],\n",
       "       ...,\n",
       "       [-0.37411608, -0.37725903,  0.21579807, ...,  0.61223569,\n",
       "         0.91750653, -0.20285242],\n",
       "       [-0.3723104 , -0.10392036,  0.23797653, ...,  0.86076833,\n",
       "         0.99780453, -0.24872334],\n",
       "       [-0.37324983, -0.33834346, -0.07918126, ..., -0.37700784,\n",
       "         0.88230648,  0.33593882]])"
      ]
     },
     "execution_count": 104,
     "metadata": {},
     "output_type": "execute_result"
    }
   ],
   "source": [
    "X_pca"
   ]
  },
  {
   "cell_type": "code",
   "execution_count": 105,
   "metadata": {},
   "outputs": [
    {
     "name": "stdout",
     "output_type": "stream",
     "text": [
      "Epoch 1/20\n",
      "319/319 [==============================] - 1s 4ms/step - loss: 1.2825 - accuracy: 0.6464 - categorical_accuracy: 0.6464 - val_loss: 6.2618 - val_accuracy: 0.0000e+00 - val_categorical_accuracy: 0.0000e+00\n",
      "Epoch 2/20\n",
      "319/319 [==============================] - 1s 3ms/step - loss: 0.4990 - accuracy: 0.7967 - categorical_accuracy: 0.7967 - val_loss: 6.2512 - val_accuracy: 0.0021 - val_categorical_accuracy: 0.0021\n",
      "Epoch 3/20\n",
      "319/319 [==============================] - 1s 3ms/step - loss: 0.3761 - accuracy: 0.8645 - categorical_accuracy: 0.8645 - val_loss: 6.4080 - val_accuracy: 0.1693 - val_categorical_accuracy: 0.1693\n",
      "Epoch 4/20\n",
      "319/319 [==============================] - 1s 3ms/step - loss: 0.2492 - accuracy: 0.9417 - categorical_accuracy: 0.9417 - val_loss: 6.8364 - val_accuracy: 0.2468 - val_categorical_accuracy: 0.2468\n",
      "Epoch 5/20\n",
      "319/319 [==============================] - 1s 3ms/step - loss: 0.2067 - accuracy: 0.9451 - categorical_accuracy: 0.9451 - val_loss: 7.5550 - val_accuracy: 0.2357 - val_categorical_accuracy: 0.2357\n",
      "Epoch 6/20\n",
      "319/319 [==============================] - 1s 3ms/step - loss: 0.1822 - accuracy: 0.9494 - categorical_accuracy: 0.9494 - val_loss: 7.8948 - val_accuracy: 0.2048 - val_categorical_accuracy: 0.2048\n",
      "Epoch 7/20\n",
      "319/319 [==============================] - 1s 3ms/step - loss: 0.1693 - accuracy: 0.9520 - categorical_accuracy: 0.9520 - val_loss: 7.7013 - val_accuracy: 0.2471 - val_categorical_accuracy: 0.2471\n",
      "Epoch 8/20\n",
      "319/319 [==============================] - 1s 3ms/step - loss: 0.1591 - accuracy: 0.9545 - categorical_accuracy: 0.9545 - val_loss: 8.5237 - val_accuracy: 0.1649 - val_categorical_accuracy: 0.1649\n",
      "Epoch 9/20\n",
      "319/319 [==============================] - 1s 3ms/step - loss: 0.1507 - accuracy: 0.9553 - categorical_accuracy: 0.9553 - val_loss: 8.1819 - val_accuracy: 0.1675 - val_categorical_accuracy: 0.1675\n",
      "Epoch 10/20\n",
      "319/319 [==============================] - 1s 3ms/step - loss: 0.1472 - accuracy: 0.9565 - categorical_accuracy: 0.9565 - val_loss: 7.9234 - val_accuracy: 0.1887 - val_categorical_accuracy: 0.1887\n",
      "Epoch 11/20\n",
      "319/319 [==============================] - 1s 3ms/step - loss: 0.1385 - accuracy: 0.9576 - categorical_accuracy: 0.9576 - val_loss: 7.6133 - val_accuracy: 0.2286 - val_categorical_accuracy: 0.2286\n",
      "Epoch 12/20\n",
      "319/319 [==============================] - 1s 3ms/step - loss: 0.1341 - accuracy: 0.9589 - categorical_accuracy: 0.9589 - val_loss: 7.9375 - val_accuracy: 0.2119 - val_categorical_accuracy: 0.2119\n",
      "Epoch 13/20\n",
      "319/319 [==============================] - 1s 3ms/step - loss: 0.1312 - accuracy: 0.9592 - categorical_accuracy: 0.9592 - val_loss: 8.0382 - val_accuracy: 0.1722 - val_categorical_accuracy: 0.1722\n",
      "Epoch 14/20\n",
      "319/319 [==============================] - 1s 3ms/step - loss: 0.1278 - accuracy: 0.9615 - categorical_accuracy: 0.9615 - val_loss: 7.5905 - val_accuracy: 0.2351 - val_categorical_accuracy: 0.2351\n",
      "Epoch 15/20\n",
      "319/319 [==============================] - 1s 3ms/step - loss: 0.1262 - accuracy: 0.9601 - categorical_accuracy: 0.9601 - val_loss: 8.1008 - val_accuracy: 0.1869 - val_categorical_accuracy: 0.1869\n",
      "Epoch 16/20\n",
      "319/319 [==============================] - 1s 3ms/step - loss: 0.1248 - accuracy: 0.9597 - categorical_accuracy: 0.9597 - val_loss: 8.0203 - val_accuracy: 0.2345 - val_categorical_accuracy: 0.2345\n",
      "Epoch 17/20\n",
      "319/319 [==============================] - 1s 3ms/step - loss: 0.1215 - accuracy: 0.9622 - categorical_accuracy: 0.9622 - val_loss: 8.0508 - val_accuracy: 0.1984 - val_categorical_accuracy: 0.1984\n",
      "Epoch 18/20\n",
      "319/319 [==============================] - 1s 3ms/step - loss: 0.1218 - accuracy: 0.9607 - categorical_accuracy: 0.9607 - val_loss: 8.0163 - val_accuracy: 0.2180 - val_categorical_accuracy: 0.2180\n",
      "Epoch 19/20\n",
      "319/319 [==============================] - 1s 3ms/step - loss: 0.1179 - accuracy: 0.9620 - categorical_accuracy: 0.9620 - val_loss: 8.5395 - val_accuracy: 0.1704 - val_categorical_accuracy: 0.1704\n",
      "Epoch 20/20\n",
      "319/319 [==============================] - 1s 3ms/step - loss: 0.1149 - accuracy: 0.9620 - categorical_accuracy: 0.9620 - val_loss: 7.5480 - val_accuracy: 0.2656 - val_categorical_accuracy: 0.2656\n"
     ]
    },
    {
     "data": {
      "text/plain": [
       "<keras.callbacks.History at 0x1ded604c2b0>"
      ]
     },
     "execution_count": 105,
     "metadata": {},
     "output_type": "execute_result"
    }
   ],
   "source": [
    "model.fit(X_pca, Y, epochs=20, validation_split=0.25)"
   ]
  },
  {
   "cell_type": "code",
   "execution_count": null,
   "metadata": {},
   "outputs": [],
   "source": []
  }
 ],
 "metadata": {
  "interpreter": {
   "hash": "cbde5eb2f27232b40f62c8a555816ffd14626dc0d57de71b257eae26eed701e5"
  },
  "kernelspec": {
   "display_name": "Python 3.10.3 64-bit",
   "language": "python",
   "name": "python3"
  },
  "language_info": {
   "codemirror_mode": {
    "name": "ipython",
    "version": 3
   },
   "file_extension": ".py",
   "mimetype": "text/x-python",
   "name": "python",
   "nbconvert_exporter": "python",
   "pygments_lexer": "ipython3",
   "version": "3.10.3"
  },
  "orig_nbformat": 4
 },
 "nbformat": 4,
 "nbformat_minor": 2
}
